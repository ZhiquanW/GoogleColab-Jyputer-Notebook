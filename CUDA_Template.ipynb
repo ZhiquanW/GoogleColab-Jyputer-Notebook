{
  "nbformat": 4,
  "nbformat_minor": 0,
  "metadata": {
    "colab": {
      "name": "CUDA-Template.ipynb",
      "version": "0.3.2",
      "provenance": [],
      "collapsed_sections": [],
      "toc_visible": true,
      "include_colab_link": true
    },
    "kernelspec": {
      "name": "python3",
      "display_name": "Python 3"
    },
    "accelerator": "GPU"
  },
  "cells": [
    {
      "cell_type": "markdown",
      "metadata": {
        "id": "view-in-github",
        "colab_type": "text"
      },
      "source": [
        "<a href=\"https://colab.research.google.com/github/ZhiquanW/GoogleColab-Jyputer-Notebook/blob/master/CUDA_Template.ipynb\" target=\"_parent\"><img src=\"https://colab.research.google.com/assets/colab-badge.svg\" alt=\"Open In Colab\"/></a>"
      ]
    },
    {
      "metadata": {
        "id": "1izofWq1gynW",
        "colab_type": "text"
      },
      "cell_type": "markdown",
      "source": [
        "# Draft Notebook"
      ]
    },
    {
      "metadata": {
        "id": "F0h1caGUu9aA",
        "colab_type": "text"
      },
      "cell_type": "markdown",
      "source": [
        "## Configure CUDA Environment"
      ]
    },
    {
      "metadata": {
        "id": "ckXpSMyAg_56",
        "colab_type": "code",
        "outputId": "dae38962-a6d6-4af2-b82b-0b35fc8d2175",
        "colab": {
          "base_uri": "https://localhost:8080/",
          "height": 245
        }
      },
      "cell_type": "code",
      "source": [
        "# check nvidia cuda envionment\n",
        "!nvcc --version\n",
        "# install juypter cuda plugin\n",
        "!pip install git+git://github.com/andreinechaev/nvcc4jupyter.git\n",
        "# load plugin\n",
        "%load_ext nvcc_plugin"
      ],
      "execution_count": 0,
      "outputs": [
        {
          "output_type": "stream",
          "text": [
            "nvcc: NVIDIA (R) Cuda compiler driver\n",
            "Copyright (c) 2005-2018 NVIDIA Corporation\n",
            "Built on Sat_Aug_25_21:08:01_CDT_2018\n",
            "Cuda compilation tools, release 10.0, V10.0.130\n",
            "Collecting git+git://github.com/andreinechaev/nvcc4jupyter.git\n",
            "  Cloning git://github.com/andreinechaev/nvcc4jupyter.git to /tmp/pip-req-build-1bel62m0\n",
            "Building wheels for collected packages: NVCCPlugin\n",
            "  Building wheel for NVCCPlugin (setup.py) ... \u001b[?25ldone\n",
            "\u001b[?25h  Stored in directory: /tmp/pip-ephem-wheel-cache-snweyhw2/wheels/10/c2/05/ca241da37bff77d60d31a9174f988109c61ba989e4d4650516\n",
            "Successfully built NVCCPlugin\n",
            "Installing collected packages: NVCCPlugin\n",
            "Successfully installed NVCCPlugin-0.0.2\n"
          ],
          "name": "stdout"
        }
      ]
    },
    {
      "metadata": {
        "id": "Lp2GExBmvRaU",
        "colab_type": "text"
      },
      "cell_type": "markdown",
      "source": [
        "## Pull Source Codes or Repository from Github"
      ]
    },
    {
      "metadata": {
        "id": "hFH3ti1evwc8",
        "colab_type": "text"
      },
      "cell_type": "markdown",
      "source": [
        "### Configure Local Git Environment"
      ]
    },
    {
      "metadata": {
        "id": "Llvih68sv4lO",
        "colab_type": "code",
        "outputId": "465b57b4-480e-4335-acf6-63e7246e988b",
        "colab": {
          "base_uri": "https://localhost:8080/",
          "height": 156
        }
      },
      "cell_type": "code",
      "source": [
        "# check git version\n",
        "! git --version\n",
        "# clone repository from github\n",
        "! git clone https://github.com/ZhiquanW/Learn-CUDA-Repository.git\n"
      ],
      "execution_count": 0,
      "outputs": [
        {
          "output_type": "stream",
          "text": [
            "git version 2.17.1\n",
            "Cloning into 'Learn-CUDA-Repository'...\n",
            "remote: Enumerating objects: 149, done.\u001b[K\n",
            "remote: Counting objects: 100% (149/149), done.\u001b[K\n",
            "remote: Compressing objects: 100% (105/105), done.\u001b[K\n",
            "remote: Total 149 (delta 28), reused 134 (delta 17), pack-reused 0\u001b[K\n",
            "Receiving objects: 100% (149/149), 1.76 MiB | 10.88 MiB/s, done.\n",
            "Resolving deltas: 100% (28/28), done.\n"
          ],
          "name": "stdout"
        }
      ]
    },
    {
      "metadata": {
        "id": "BhQI1lUWwkiO",
        "colab_type": "text"
      },
      "cell_type": "markdown",
      "source": [
        "### Change to Work Directory"
      ]
    },
    {
      "metadata": {
        "id": "-Q5f8ZWcvbfU",
        "colab_type": "code",
        "outputId": "2c286809-8da3-46bb-d967-f22d886c9755",
        "colab": {
          "base_uri": "https://localhost:8080/",
          "height": 35
        }
      },
      "cell_type": "code",
      "source": [
        "# show current working space\n",
        "! ls"
      ],
      "execution_count": 0,
      "outputs": [
        {
          "output_type": "stream",
          "text": [
            "exe  hello.cu  Learn-CUDA-Repository  sample_data  src\n"
          ],
          "name": "stdout"
        }
      ]
    },
    {
      "metadata": {
        "id": "deEU58BCw6YW",
        "colab_type": "code",
        "colab": {}
      },
      "cell_type": "code",
      "source": [
        "# change to new work directory\n",
        "! cd Learn-CUDA-Repository/\n",
        "! mkdir new_dir\n",
        "! cd new_dir"
      ],
      "execution_count": 0,
      "outputs": []
    },
    {
      "metadata": {
        "id": "aaM2_m0hxLzO",
        "colab_type": "text"
      },
      "cell_type": "markdown",
      "source": [
        "## Compile and Run CUDA Program"
      ]
    },
    {
      "metadata": {
        "id": "qhum0z8uxQye",
        "colab_type": "code",
        "colab": {}
      },
      "cell_type": "code",
      "source": [
        "# compile codes with nvcc\n",
        "! nvccc -o main.cu exe"
      ],
      "execution_count": 0,
      "outputs": []
    },
    {
      "metadata": {
        "id": "yrpfVjfOxXng",
        "colab_type": "code",
        "colab": {}
      },
      "cell_type": "code",
      "source": [
        "# run with nvprofile\n",
        "! nvprof ./exe"
      ],
      "execution_count": 0,
      "outputs": []
    }
  ]
}